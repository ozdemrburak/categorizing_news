{
 "cells": [
  {
   "cell_type": "code",
   "execution_count": 1,
   "id": "85f0d3cc",
   "metadata": {},
   "outputs": [],
   "source": [
    "import pandas as pd\n",
    "import numpy as np\n",
    "import string\n",
    "import re\n",
    "from sklearn.feature_extraction.text import TfidfVectorizer\n",
    "from simplemma import text_lemmatizer\n",
    "from nltk import sent_tokenize\n",
    "from nltk.corpus import stopwords\n",
    "from sklearn.model_selection import train_test_split\n",
    "from sklearn.metrics import f1_score\n",
    "from sklearn.naive_bayes import MultinomialNB"
   ]
  },
  {
   "cell_type": "code",
   "execution_count": 3,
   "id": "f7368ac3",
   "metadata": {
    "scrolled": true
   },
   "outputs": [],
   "source": [
    "df = pd.read_csv(r\"C:\\Users\\ozdem\\Jupyter Notebook\\dataset.csv\")"
   ]
  },
  {
   "cell_type": "code",
   "execution_count": 4,
   "id": "567a1f4a",
   "metadata": {},
   "outputs": [
    {
     "data": {
      "text/html": [
       "<div>\n",
       "<style scoped>\n",
       "    .dataframe tbody tr th:only-of-type {\n",
       "        vertical-align: middle;\n",
       "    }\n",
       "\n",
       "    .dataframe tbody tr th {\n",
       "        vertical-align: top;\n",
       "    }\n",
       "\n",
       "    .dataframe thead th {\n",
       "        text-align: right;\n",
       "    }\n",
       "</style>\n",
       "<table border=\"1\" class=\"dataframe\">\n",
       "  <thead>\n",
       "    <tr style=\"text-align: right;\">\n",
       "      <th></th>\n",
       "      <th>Unnamed: 0</th>\n",
       "      <th>Link</th>\n",
       "      <th>Başlık</th>\n",
       "      <th>Body_text</th>\n",
       "      <th>Summarized_Text</th>\n",
       "      <th>TimeStamp</th>\n",
       "      <th>Kategori</th>\n",
       "    </tr>\n",
       "  </thead>\n",
       "  <tbody>\n",
       "    <tr>\n",
       "      <th>0</th>\n",
       "      <td>0</td>\n",
       "      <td>https://www.ensonhaber.com/ekonomi/moodys-turk...</td>\n",
       "      <td>\\nMoody's, Türkiye için değerlendirme yapmadı\\...</td>\n",
       "      <td>Uluslararası kredi derecelendirme kuruluşu Moo...</td>\n",
       "      <td>Haftalık Özet</td>\n",
       "      <td>NaN</td>\n",
       "      <td>ekonomi</td>\n",
       "    </tr>\n",
       "    <tr>\n",
       "      <th>1</th>\n",
       "      <td>1</td>\n",
       "      <td>https://www.ensonhaber.com/ekonomi/cevdet-yilm...</td>\n",
       "      <td>\\nCevdet Yılmaz'dan asgari ücret ve emekliye z...</td>\n",
       "      <td>\\n                    Bu videoyu izlemek için ...</td>\n",
       "      <td>Haftalık Özet</td>\n",
       "      <td>NaN</td>\n",
       "      <td>ekonomi</td>\n",
       "    </tr>\n",
       "    <tr>\n",
       "      <th>2</th>\n",
       "      <td>2</td>\n",
       "      <td>https://www.ensonhaber.com/ekonomi/mersinde-ha...</td>\n",
       "      <td>\\nMersin'de hasat başladı! Bahçede 16 lira ola...</td>\n",
       "      <td>\\n                    Bu videoyu izlemek için ...</td>\n",
       "      <td>Haftalık Özet</td>\n",
       "      <td>NaN</td>\n",
       "      <td>ekonomi</td>\n",
       "    </tr>\n",
       "    <tr>\n",
       "      <th>3</th>\n",
       "      <td>3</td>\n",
       "      <td>https://www.ensonhaber.com/ekonomi/turkiyenin-...</td>\n",
       "      <td>\\nTürkiye'nin 2022'de AB ülkeleri içindeki sat...</td>\n",
       "      <td>Türkiye İstatistik Kurumu (TÜİK), 2022 yılında...</td>\n",
       "      <td>Haftalık Özet</td>\n",
       "      <td>NaN</td>\n",
       "      <td>ekonomi</td>\n",
       "    </tr>\n",
       "    <tr>\n",
       "      <th>4</th>\n",
       "      <td>4</td>\n",
       "      <td>https://www.ensonhaber.com/ekonomi/cevdet-yilm...</td>\n",
       "      <td>\\nCevdet Yılmaz: Yılı tek haneli işsizlik raka...</td>\n",
       "      <td>\\n                    Bu videoyu izlemek için ...</td>\n",
       "      <td>Haftalık Özet</td>\n",
       "      <td>NaN</td>\n",
       "      <td>ekonomi</td>\n",
       "    </tr>\n",
       "  </tbody>\n",
       "</table>\n",
       "</div>"
      ],
      "text/plain": [
       "   Unnamed: 0                                               Link  \\\n",
       "0           0  https://www.ensonhaber.com/ekonomi/moodys-turk...   \n",
       "1           1  https://www.ensonhaber.com/ekonomi/cevdet-yilm...   \n",
       "2           2  https://www.ensonhaber.com/ekonomi/mersinde-ha...   \n",
       "3           3  https://www.ensonhaber.com/ekonomi/turkiyenin-...   \n",
       "4           4  https://www.ensonhaber.com/ekonomi/cevdet-yilm...   \n",
       "\n",
       "                                              Başlık  \\\n",
       "0  \\nMoody's, Türkiye için değerlendirme yapmadı\\...   \n",
       "1  \\nCevdet Yılmaz'dan asgari ücret ve emekliye z...   \n",
       "2  \\nMersin'de hasat başladı! Bahçede 16 lira ola...   \n",
       "3  \\nTürkiye'nin 2022'de AB ülkeleri içindeki sat...   \n",
       "4  \\nCevdet Yılmaz: Yılı tek haneli işsizlik raka...   \n",
       "\n",
       "                                           Body_text Summarized_Text  \\\n",
       "0  Uluslararası kredi derecelendirme kuruluşu Moo...   Haftalık Özet   \n",
       "1  \\n                    Bu videoyu izlemek için ...   Haftalık Özet   \n",
       "2  \\n                    Bu videoyu izlemek için ...   Haftalık Özet   \n",
       "3  Türkiye İstatistik Kurumu (TÜİK), 2022 yılında...   Haftalık Özet   \n",
       "4  \\n                    Bu videoyu izlemek için ...   Haftalık Özet   \n",
       "\n",
       "  TimeStamp Kategori  \n",
       "0       NaN  ekonomi  \n",
       "1       NaN  ekonomi  \n",
       "2       NaN  ekonomi  \n",
       "3       NaN  ekonomi  \n",
       "4       NaN  ekonomi  "
      ]
     },
     "execution_count": 4,
     "metadata": {},
     "output_type": "execute_result"
    }
   ],
   "source": [
    "df.head()"
   ]
  },
  {
   "cell_type": "code",
   "execution_count": 5,
   "id": "05d0aa4f",
   "metadata": {},
   "outputs": [],
   "source": [
    "stopWords = set(stopwords.words('turkish'))\n"
   ]
  },
  {
   "cell_type": "code",
   "execution_count": 6,
   "id": "12dc8544",
   "metadata": {},
   "outputs": [],
   "source": [
    "def clean_text(text):\n",
    "    \n",
    "    text = text.replace(\"Bu videoyu izlemek için lütfen JavaScript'i etkinleştirin\", \" \")\n",
    "    text = text.replace(\"[/inlinetweet]\", \"\")\n",
    "    text = text.lower()\n",
    "    text = re.sub(\"[0-9]+\", \"\", text)\n",
    "    text = re.sub(\"’|“|”|‘|–|—\", \" \", text)\n",
    "    text = re.sub(r\"https?:\\/\\/\\S+\", \" \", text)\n",
    "    text = re.sub(r\"http?:\\/\\/\\S+\", \" \", text)\n",
    "    text = text_lemmatizer(text, lang=\"tr\")\n",
    "    text = [re.sub(\"[0-9]+\", \"\", element) for element in text]\n",
    "    text = \" \".join([word for word in text if word not in stopWords])\n",
    "    \n",
    "    \n",
    "    turkish_punctuation = \".,;:!?()[]{}'\\\"<>-_+=*&^%$#@~`|\\\\/\"\n",
    "    translate_table = str.maketrans(\"\", \"\", turkish_punctuation)\n",
    "    text = text.translate(translate_table)\n",
    "    \n",
    "    return text"
   ]
  },
  {
   "cell_type": "code",
   "execution_count": 7,
   "id": "cdc96929",
   "metadata": {},
   "outputs": [],
   "source": [
    "df[\"clean\"] = df[\"Body_text\"].apply(lambda row: clean_text(row))"
   ]
  },
  {
   "cell_type": "code",
   "execution_count": 8,
   "id": "6abc4990",
   "metadata": {},
   "outputs": [
    {
     "data": {
      "text/plain": [
       "' in güç  temas düzenle müsi ad vizyoner  zirve  ti m show center  düzenle  bura bir konuş gerçek borsa i stanbul genel müdür korkmaz ergun  borsa i stanbul  yatırım yap vatandaş sayı art bir kazanım ol belir  yatırım uzun vade yatırım perspektif kazan hedefle ilet  şirket yatırım ilgi cevap ver ad ürün hizmet çeşit sayı artır devam et aktar ergun  katılım finans geliş yönelik adım at devam et belir  şirket  borsa davet et  korkmaz ergun  etkin yap konuş  borsa i stanbul  şirket yatırım fark finansman yöntem yatırım araç sun söyle  piyasa ihtiyaç doğrultu ürün yelpaze çeşitlendirdik anlat ergun  açıkla bulun  hız güven bir şekil kesinti hizmet sun devam et  son yıl şirket yatırım göster yoğun ilgi iş bir şevk bağla  borsa i stanbul ol ülke büyü temel dinamo ol üretim  yatırım  ihracat yap  istihdam oluş şirket  büyü finansman halk arz yol sağla tek tek ziyaret et borsa davet et  i ş yap model değiş  ergun  borsa i stanbul ol iş yap model değiş dikkat çek  son üç yıl hacim hak bilgi ver  sadece şirket halk arz başvuru değer bir borsa değil  şirket halk arz başvuru önce  karar hazırlık aşama türlü destek ver yardımcı ol bir borsa  yız  kapsam son senet borsa şirket işlem gör başla  şirket halk arz milyar tl kaynak sağla  yine son senet bin adet borç araç işlem gör başla  ihraç trilyon tl  nin üzer kaynak sağla  türkiye nüfus kişi  i borsa aktif yatırım hal gel  şirket sayı sene önce iken bugün  a ulaş  günlük ortalama işlem hacim sene önce milyar tl iken bugün günlük ortalama işlem hacim milyar tl  ye ulaş  diğer taraf türkiye nüfus kişi  i borsa aktif yatırım hal gel  yıl önce rakam yüz  ler seviye  bireysel yatırım artık genç yaş sermaye piyasa tanış  iv bilgi deneyim besle büyü iste  asıl temenni  yatırım uzun vade yatırım perspektif kazan  borsa yatırım yap vatandaş sayı art  sermaye piyasa açı mühim bir kazanım  asıl temenni yatırım uzun vade yatırım perspektif kazan ortaklık kültür hareket et '"
      ]
     },
     "execution_count": 8,
     "metadata": {},
     "output_type": "execute_result"
    }
   ],
   "source": [
    "df[\"clean\"][578] # Metinler temizlenmiş gibi duruyor."
   ]
  },
  {
   "cell_type": "code",
   "execution_count": 9,
   "id": "3fe709ba",
   "metadata": {},
   "outputs": [],
   "source": [
    "df[\"clean_label\"] = df[\"Kategori\"].apply(lambda row: clean_text(row)) #ic-haber seklindeki etiketi ichaber yaptık."
   ]
  },
  {
   "cell_type": "code",
   "execution_count": 10,
   "id": "3314580e",
   "metadata": {},
   "outputs": [],
   "source": [
    "X = df.clean.to_numpy()\n",
    "y = df.clean_label.to_numpy()"
   ]
  },
  {
   "cell_type": "code",
   "execution_count": 11,
   "id": "83b4e995",
   "metadata": {},
   "outputs": [],
   "source": [
    "X_train, X_test, y_train, y_test = train_test_split(\n",
    "    X, y, test_size=0.2, random_state=5)"
   ]
  },
  {
   "cell_type": "code",
   "execution_count": 12,
   "id": "d52d9bd9",
   "metadata": {},
   "outputs": [
    {
     "name": "stdout",
     "output_type": "stream",
     "text": [
      "2307 577\n"
     ]
    }
   ],
   "source": [
    "print(len(X_train), len(X_test))"
   ]
  },
  {
   "cell_type": "code",
   "execution_count": 13,
   "id": "1069e3d9",
   "metadata": {},
   "outputs": [
    {
     "data": {
      "text/plain": [
       "'abd eski başkan donald trump  ın destek  kongre bina işgal et başla gerilim sıra trump ın facebook  twitter diğer birçok sosyal medya hesap kapa  elon musk  ın twitter  ı satın al ardından abd eski başkan donald trump  a geri dön yol aç hesap yeniden aktif et  donald trump geri döndüabd eski başkan donald trump  eski ad twitter ol x sosyal medya platform geri dön  son ocak  paylaşım yap sosyal medya platform x  e geri dön trump  ın ilk paylaşım  seçim müdahale  asla teslim ol  yazılı sabıka fotoğraf bağış toplam sayfa yönlendir internet site link yer al  trump  georgia eyalet seçim sonuç müdahale bulun suçla hazırla iddianame kapsam teslim ol  dava kapsam bin dolar ol belirle kefalet bedel öde trump  yaklaşık dakika iç hapishane ayır  kendi sosyal medya platform um bulamadıtrump  x hesap askı alın ardından  truth social  isim ver sosyal medya uygulama kullanım sun iş pek iste git  öte yan trump  geç yıl yap bir video röportaj trump ifade kullan  truth social  ol  elon musk  ı sev  yap beğen  mükemmel bir birey  ben beyaz saray  dayken twitter yap  twitter taraf ben yap muamele ben hayal kırık uğra geri dön '"
      ]
     },
     "execution_count": 13,
     "metadata": {},
     "output_type": "execute_result"
    }
   ],
   "source": [
    "X_train[0]"
   ]
  },
  {
   "cell_type": "code",
   "execution_count": 14,
   "id": "5b4904d7",
   "metadata": {},
   "outputs": [],
   "source": [
    "vectorizer = TfidfVectorizer()\n",
    "\n",
    "X_train = vectorizer.fit_transform(X_train)\n",
    "X_test = vectorizer.transform(X_test)"
   ]
  },
  {
   "cell_type": "code",
   "execution_count": 15,
   "id": "c8405477",
   "metadata": {},
   "outputs": [
    {
     "data": {
      "text/html": [
       "<style>#sk-container-id-1 {color: black;background-color: white;}#sk-container-id-1 pre{padding: 0;}#sk-container-id-1 div.sk-toggleable {background-color: white;}#sk-container-id-1 label.sk-toggleable__label {cursor: pointer;display: block;width: 100%;margin-bottom: 0;padding: 0.3em;box-sizing: border-box;text-align: center;}#sk-container-id-1 label.sk-toggleable__label-arrow:before {content: \"▸\";float: left;margin-right: 0.25em;color: #696969;}#sk-container-id-1 label.sk-toggleable__label-arrow:hover:before {color: black;}#sk-container-id-1 div.sk-estimator:hover label.sk-toggleable__label-arrow:before {color: black;}#sk-container-id-1 div.sk-toggleable__content {max-height: 0;max-width: 0;overflow: hidden;text-align: left;background-color: #f0f8ff;}#sk-container-id-1 div.sk-toggleable__content pre {margin: 0.2em;color: black;border-radius: 0.25em;background-color: #f0f8ff;}#sk-container-id-1 input.sk-toggleable__control:checked~div.sk-toggleable__content {max-height: 200px;max-width: 100%;overflow: auto;}#sk-container-id-1 input.sk-toggleable__control:checked~label.sk-toggleable__label-arrow:before {content: \"▾\";}#sk-container-id-1 div.sk-estimator input.sk-toggleable__control:checked~label.sk-toggleable__label {background-color: #d4ebff;}#sk-container-id-1 div.sk-label input.sk-toggleable__control:checked~label.sk-toggleable__label {background-color: #d4ebff;}#sk-container-id-1 input.sk-hidden--visually {border: 0;clip: rect(1px 1px 1px 1px);clip: rect(1px, 1px, 1px, 1px);height: 1px;margin: -1px;overflow: hidden;padding: 0;position: absolute;width: 1px;}#sk-container-id-1 div.sk-estimator {font-family: monospace;background-color: #f0f8ff;border: 1px dotted black;border-radius: 0.25em;box-sizing: border-box;margin-bottom: 0.5em;}#sk-container-id-1 div.sk-estimator:hover {background-color: #d4ebff;}#sk-container-id-1 div.sk-parallel-item::after {content: \"\";width: 100%;border-bottom: 1px solid gray;flex-grow: 1;}#sk-container-id-1 div.sk-label:hover label.sk-toggleable__label {background-color: #d4ebff;}#sk-container-id-1 div.sk-serial::before {content: \"\";position: absolute;border-left: 1px solid gray;box-sizing: border-box;top: 0;bottom: 0;left: 50%;z-index: 0;}#sk-container-id-1 div.sk-serial {display: flex;flex-direction: column;align-items: center;background-color: white;padding-right: 0.2em;padding-left: 0.2em;position: relative;}#sk-container-id-1 div.sk-item {position: relative;z-index: 1;}#sk-container-id-1 div.sk-parallel {display: flex;align-items: stretch;justify-content: center;background-color: white;position: relative;}#sk-container-id-1 div.sk-item::before, #sk-container-id-1 div.sk-parallel-item::before {content: \"\";position: absolute;border-left: 1px solid gray;box-sizing: border-box;top: 0;bottom: 0;left: 50%;z-index: -1;}#sk-container-id-1 div.sk-parallel-item {display: flex;flex-direction: column;z-index: 1;position: relative;background-color: white;}#sk-container-id-1 div.sk-parallel-item:first-child::after {align-self: flex-end;width: 50%;}#sk-container-id-1 div.sk-parallel-item:last-child::after {align-self: flex-start;width: 50%;}#sk-container-id-1 div.sk-parallel-item:only-child::after {width: 0;}#sk-container-id-1 div.sk-dashed-wrapped {border: 1px dashed gray;margin: 0 0.4em 0.5em 0.4em;box-sizing: border-box;padding-bottom: 0.4em;background-color: white;}#sk-container-id-1 div.sk-label label {font-family: monospace;font-weight: bold;display: inline-block;line-height: 1.2em;}#sk-container-id-1 div.sk-label-container {text-align: center;}#sk-container-id-1 div.sk-container {/* jupyter's `normalize.less` sets `[hidden] { display: none; }` but bootstrap.min.css set `[hidden] { display: none !important; }` so we also need the `!important` here to be able to override the default hidden behavior on the sphinx rendered scikit-learn.org. See: https://github.com/scikit-learn/scikit-learn/issues/21755 */display: inline-block !important;position: relative;}#sk-container-id-1 div.sk-text-repr-fallback {display: none;}</style><div id=\"sk-container-id-1\" class=\"sk-top-container\"><div class=\"sk-text-repr-fallback\"><pre>MultinomialNB()</pre><b>In a Jupyter environment, please rerun this cell to show the HTML representation or trust the notebook. <br />On GitHub, the HTML representation is unable to render, please try loading this page with nbviewer.org.</b></div><div class=\"sk-container\" hidden><div class=\"sk-item\"><div class=\"sk-estimator sk-toggleable\"><input class=\"sk-toggleable__control sk-hidden--visually\" id=\"sk-estimator-id-1\" type=\"checkbox\" checked><label for=\"sk-estimator-id-1\" class=\"sk-toggleable__label sk-toggleable__label-arrow\">MultinomialNB</label><div class=\"sk-toggleable__content\"><pre>MultinomialNB()</pre></div></div></div></div></div>"
      ],
      "text/plain": [
       "MultinomialNB()"
      ]
     },
     "execution_count": 15,
     "metadata": {},
     "output_type": "execute_result"
    }
   ],
   "source": [
    "model_NB = MultinomialNB()\n",
    "model_NB.fit(X_train, y_train)"
   ]
  },
  {
   "cell_type": "code",
   "execution_count": 16,
   "id": "4fae9fa3",
   "metadata": {
    "scrolled": true
   },
   "outputs": [
    {
     "name": "stdout",
     "output_type": "stream",
     "text": [
      "NB eğitim doğruluğu: 0.8777633289986996\n",
      "NB test doğruluğu: 0.8838821490467937\n",
      "NB Eğitim F1, Sınıf ekonomi : 0.8938193343898575\n",
      "NB Eğitim F1, Sınıf teknoloji : 0.8527291452111225\n",
      "NB Eğitim F1, Sınıf otomobil : 0.8616666666666668\n",
      "NB Eğitim F1, Sınıf ichaber : 0.8975444538526673\n",
      "NB Test F1, Sınıf ekonomi: 0.9283489096573209\n",
      "NB Test F1, Sınıf teknoloji: 0.8549019607843138\n",
      "NB Test F1, Sınıf otomobil: 0.851063829787234\n",
      "NB Test F1, Sınıf ichaber: 0.8918918918918919\n"
     ]
    }
   ],
   "source": [
    "sinif = [\"ekonomi\",\n",
    "         \"teknoloji\",\n",
    "         \"otomobil\",\n",
    "         \"ichaber\"]\n",
    "\n",
    "# Eğitim kümesindeki doğruluğu yazdır\n",
    "print(\"NB eğitim doğruluğu:\", model_NB.score(X_train, y_train))\n",
    "\n",
    "# Test kümesindeki doğruluğu yazdır\n",
    "print(\"NB test doğruluğu:\", model_NB.score(X_test, y_test))\n",
    "\n",
    "# Eğitim kümesinde tahminler yap\n",
    "predictions_train = model_NB.predict(X_train)\n",
    "\n",
    "# Her sınıf için ayrı F1 skorunu ekrana yazdır\n",
    "f1_train = f1_score(y_train, predictions_train, average=None) #Birden fazla sınıf olduğu için f1 score'u for ile buluyoruz.\n",
    "for i, f1 in enumerate(f1_train):\n",
    "    print(f\"NB Eğitim F1, Sınıf {sinif[i]} : {f1}\")\n",
    "\n",
    "# Test kümesinde tahminler yap\n",
    "predictions_test = model_NB.predict(X_test)\n",
    "\n",
    "# Her sınıf için ayrı F1 skorunu ekrana yazdır\n",
    "f1_test = f1_score(y_test, predictions_test, average=None)\n",
    "for i, f1 in enumerate(f1_test):\n",
    "    print(f\"NB Test F1, Sınıf {sinif[i]}: {f1}\")\n"
   ]
  },
  {
   "cell_type": "code",
   "execution_count": 47,
   "id": "dd966b1f",
   "metadata": {},
   "outputs": [],
   "source": [
    "# şimdi dışarıdan bir teknoloji haberi aldım onu modelde deneyeceğiz.\n",
    "metin = \"\"\"\n",
    "Yapay zeka son 1 yıldır hayatımıza tamamen entegre olmasının ardından kendisini her alanda geliştirmeye devam ediyor.\n",
    "\n",
    "Son olarak yapay zekalı yüz tanıma sisteminin İngiltere havalimanlarında kullanılmaya başlanmasıyla birlikte pasaport kontrolüne gerek kalmayacağı kaydedildi.\n",
    "\n",
    "İngiltere İçişleri Bakanlığı'nın planlarına göre yüz tanıma sistemiyle birlikte, temassız seyahat ve 50 millet için yapay zeka kullanan Dubai'ye benzer bir \"akıllı sınır\" yaratılması hedefleniyor.\n",
    "\n",
    "Sınır Gücü Genel Müdürü Phil Douglas, \"Yeni program şu anda yaptığımızdan çok daha temassız yüz tanıma kullanacak.\n",
    "\n",
    "İnsanlar hakkında önceden çok daha fazla bilgi sahibi olacağız. Daha önce Birleşik Krallık'ta bulunup bulunmadıklarını bileceğiz\" dedi.\n",
    "\n",
    "Douglas, \"Göçmenlik yasalarına uyumlarının ne olduğunu bileceğiz. Ve güvenlik sistemlerimizde onlarla ilgili herhangi bir kayıt olup olmadığını bileceğiz. Bu yüzden uçağa binemeyecek bazı insanlar olacak.\" diye konuştu.\n",
    "\n",
    "Yeni teknolojinin denemelerinin bu yıl içinde yapılacağı bildirildi.\n",
    "\n",
    "Buna ek olarak, gelecekte pasaportların kullanımdan kaldırılmasını sağlayabilecek sınır ötesi dijital kimlikler de test ediliyor.\n",
    "\"\"\"\n",
    "\n"
   ]
  },
  {
   "cell_type": "code",
   "execution_count": 48,
   "id": "676817b2",
   "metadata": {},
   "outputs": [],
   "source": [
    "metin_temiz = clean_text(metin) #metini temizledik\n",
    "metin_temiz_list =[metin_temiz] # liste yaptık ki vectorizer kodumuz hata vermesin"
   ]
  },
  {
   "cell_type": "code",
   "execution_count": 49,
   "id": "7336edc8",
   "metadata": {},
   "outputs": [],
   "source": [
    "vectorized_metin =  vectorizer.transform(metin_temiz_list) # vektör haline getirdik ve modelimize tahmin ettireceğiz."
   ]
  },
  {
   "cell_type": "code",
   "execution_count": 50,
   "id": "6f2c825b",
   "metadata": {},
   "outputs": [
    {
     "name": "stdout",
     "output_type": "stream",
     "text": [
      "NB tahmini : ['teknoloji']\n"
     ]
    }
   ],
   "source": [
    "print(\"NB tahmini :\",  model_NB.predict(vectorized_metin)) # gerçekten de doğru tahmin etti."
   ]
  },
  {
   "cell_type": "code",
   "execution_count": null,
   "id": "5c87890e",
   "metadata": {},
   "outputs": [],
   "source": []
  }
 ],
 "metadata": {
  "kernelspec": {
   "display_name": "Python 3 (ipykernel)",
   "language": "python",
   "name": "python3"
  },
  "language_info": {
   "codemirror_mode": {
    "name": "ipython",
    "version": 3
   },
   "file_extension": ".py",
   "mimetype": "text/x-python",
   "name": "python",
   "nbconvert_exporter": "python",
   "pygments_lexer": "ipython3",
   "version": "3.11.3"
  }
 },
 "nbformat": 4,
 "nbformat_minor": 5
}
